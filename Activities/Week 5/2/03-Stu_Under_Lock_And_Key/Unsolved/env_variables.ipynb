{
 "cells": [
  {
   "cell_type": "markdown",
   "metadata": {},
   "source": [
    "# Under Lock and Key"
   ]
  },
  {
   "cell_type": "markdown",
   "metadata": {},
   "source": [
    "You and Harold have developed a Python application that extracts historical stock data from **Quandl** for a given ticker and calculates the Sharpe ratio for that stock. So far, the two of you are the only ones using the program, but now your manager wants you to share the application with the entire team. You know that Quandl allows API calls to be submitted without an API key, but the limit is 50 calls a day. Quandl is diligent in their rate-limiting and keeps services under lock and key.\n",
    "\n",
    "Since Quandl has cracked down on the number of API calls users can make to the service without an **API Key**, acquire a Quandl API key and save it as an **environment variable**. Create a Python code that retrieves the environment variable and passes the key with the request URL. This will ensure that your team can make more than 50 API calls a day, and Quandl can manage and track rate limits.\n",
    "\n",
    "## Instructions\n",
    "\n",
    "### Import the Python `requests`, `os`, and `dotenv` libraries"
   ]
  },
  {
   "cell_type": "code",
   "execution_count": null,
   "metadata": {},
   "outputs": [],
   "source": [
    "# Initial imports\n"
   ]
  },
  {
   "cell_type": "markdown",
   "metadata": {},
   "source": [
    "### Use the `load_dotenv()` method from the `dotenv` package to load and export the environment variables"
   ]
  },
  {
   "cell_type": "code",
   "execution_count": null,
   "metadata": {},
   "outputs": [],
   "source": [
    "# Load and export environment variables with load_dotenv()\n"
   ]
  },
  {
   "cell_type": "markdown",
   "metadata": {},
   "source": [
    "### Use the `os.getenv` function to retrieve the environment variable named `QUANDL_API_KEY`. Store as a Python variable named `api_key`"
   ]
  },
  {
   "cell_type": "code",
   "execution_count": null,
   "metadata": {},
   "outputs": [],
   "source": [
    "# Retrieve environment variable and store in Python variable\n"
   ]
  },
  {
   "cell_type": "markdown",
   "metadata": {},
   "source": [
    "### Use the `type` function to confirm the retrieval of the API key."
   ]
  },
  {
   "cell_type": "code",
   "execution_count": null,
   "metadata": {},
   "outputs": [],
   "source": [
    "# Confirm retrieval of api key\n"
   ]
  },
  {
   "cell_type": "markdown",
   "metadata": {},
   "source": [
    "### Concatenate `request_url` with the `api_key` variable"
   ]
  },
  {
   "cell_type": "code",
   "execution_count": null,
   "metadata": {},
   "outputs": [],
   "source": [
    "# Define the base request URL\n",
    "request_url = \"https://www.quandl.com/api/v3/datasets/WIKI/MSFT.json?api_key=\"\n",
    "\n",
    "# Concatenate request_url and api_key. Store as new variable\n"
   ]
  },
  {
   "cell_type": "markdown",
   "metadata": {},
   "source": [
    "### Execute GET request with API key"
   ]
  },
  {
   "cell_type": "code",
   "execution_count": null,
   "metadata": {},
   "outputs": [],
   "source": [
    "# Execute get request\n"
   ]
  },
  {
   "cell_type": "markdown",
   "metadata": {},
   "source": [
    "### Display content to screen using the content attribute"
   ]
  },
  {
   "cell_type": "code",
   "execution_count": null,
   "metadata": {},
   "outputs": [],
   "source": [
    "# Output data\n"
   ]
  }
 ],
 "metadata": {
  "kernelspec": {
   "display_name": "Python 3",
   "language": "python",
   "name": "python3"
  },
  "language_info": {
   "codemirror_mode": {
    "name": "ipython",
    "version": 3
   },
   "file_extension": ".py",
   "mimetype": "text/x-python",
   "name": "python",
   "nbconvert_exporter": "python",
   "pygments_lexer": "ipython3",
   "version": "3.7.3"
  }
 },
 "nbformat": 4,
 "nbformat_minor": 4
}
