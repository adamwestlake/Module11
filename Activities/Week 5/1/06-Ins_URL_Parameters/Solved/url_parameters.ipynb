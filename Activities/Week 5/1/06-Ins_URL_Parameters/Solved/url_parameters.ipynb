{
 "cells": [
  {
   "cell_type": "markdown",
   "metadata": {},
   "source": [
    "### Execute the Numbers API for the number 42"
   ]
  },
  {
   "cell_type": "code",
   "execution_count": 3,
   "metadata": {},
   "outputs": [
    {
     "name": "stdout",
     "output_type": "stream",
     "text": [
      "{\n",
      "    \"text\": \"42 is the sum of the codes of the letters in the words \\\"BIG BANG\\\" using the encoding A=1, B=2, C=3, etc.\",\n",
      "    \"number\": 42,\n",
      "    \"found\": true,\n",
      "    \"type\": \"trivia\"\n",
      "}\n"
     ]
    },
    {
     "data": {
      "text/plain": [
       "'42 is the sum of the codes of the letters in the words \"BIG BANG\" using the encoding A=1, B=2, C=3, etc.'"
      ]
     },
     "execution_count": 3,
     "metadata": {},
     "output_type": "execute_result"
    }
   ],
   "source": [
    "import requests\n",
    "import json\n",
    "\n",
    "# Create parameterized url\n",
    "request_url = \"http://numbersapi.com/42?json\"\n",
    "\n",
    "# Submit request and format output\n",
    "response_data = requests.get(request_url).json()\n",
    "print(json.dumps(response_data, indent=4))\n",
    "\n",
    "# Select fact \n",
    "response_data[\"text\"]"
   ]
  },
  {
   "cell_type": "markdown",
   "metadata": {},
   "source": [
    "### Execute the Numbers API for the number 8"
   ]
  },
  {
   "cell_type": "code",
   "execution_count": 4,
   "metadata": {},
   "outputs": [
    {
     "name": "stdout",
     "output_type": "stream",
     "text": [
      "{\n",
      "    \"text\": \"8 is the number of bits in a byte.\",\n",
      "    \"number\": 8,\n",
      "    \"found\": true,\n",
      "    \"type\": \"trivia\"\n",
      "}\n"
     ]
    },
    {
     "data": {
      "text/plain": [
       "'8 is the number of bits in a byte.'"
      ]
     },
     "execution_count": 4,
     "metadata": {},
     "output_type": "execute_result"
    }
   ],
   "source": [
    "# Create parameterized url\n",
    "request_url = \"http://numbersapi.com/8?json\"\n",
    "\n",
    "# Submit request and format output\n",
    "response_data = requests.get(request_url).json()\n",
    "print(json.dumps(response_data, indent=4))\n",
    "\n",
    "# Select fact\n",
    "response_data[\"text\"]"
   ]
  }
 ],
 "metadata": {
  "kernelspec": {
   "display_name": "Python 3",
   "language": "python",
   "name": "python3"
  },
  "language_info": {
   "codemirror_mode": {
    "name": "ipython",
    "version": 3
   },
   "file_extension": ".py",
   "mimetype": "text/x-python",
   "name": "python",
   "nbconvert_exporter": "python",
   "pygments_lexer": "ipython3",
   "version": "3.7.6"
  }
 },
 "nbformat": 4,
 "nbformat_minor": 4
}
